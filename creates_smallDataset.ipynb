{
 "cells": [
  {
   "cell_type": "code",
   "execution_count": 1,
   "metadata": {
    "collapsed": true
   },
   "outputs": [],
   "source": [
    "import pandas as pd\n",
    "import numpy as np\n",
    "import matplotlib.pyplot as plt"
   ]
  },
  {
   "cell_type": "code",
   "execution_count": 11,
   "metadata": {
    "collapsed": false,
    "scrolled": true
   },
   "outputs": [
    {
     "data": {
      "text/html": [
       "<div>\n",
       "<table border=\"1\" class=\"dataframe\">\n",
       "  <thead>\n",
       "    <tr style=\"text-align: right;\">\n",
       "      <th></th>\n",
       "      <th>Row</th>\n",
       "      <th>Anon Student Id</th>\n",
       "      <th>Problem Hierarchy</th>\n",
       "      <th>Problem Name</th>\n",
       "      <th>Problem View</th>\n",
       "      <th>Step Name</th>\n",
       "      <th>Step Start Time</th>\n",
       "      <th>First Transaction Time</th>\n",
       "      <th>Correct Transaction Time</th>\n",
       "      <th>Step End Time</th>\n",
       "      <th>Step Duration (sec)</th>\n",
       "      <th>Correct Step Duration (sec)</th>\n",
       "      <th>Error Step Duration (sec)</th>\n",
       "      <th>Correct First Attempt</th>\n",
       "      <th>Incorrects</th>\n",
       "      <th>Hints</th>\n",
       "      <th>Corrects</th>\n",
       "      <th>KC(Default)</th>\n",
       "      <th>Opportunity(Default)</th>\n",
       "    </tr>\n",
       "  </thead>\n",
       "  <tbody>\n",
       "    <tr>\n",
       "      <th>0</th>\n",
       "      <td>1</td>\n",
       "      <td>0BrbPbwCMz</td>\n",
       "      <td>Unit ES_04, Section ES_04-1</td>\n",
       "      <td>EG4-FIXED</td>\n",
       "      <td>1</td>\n",
       "      <td>3(x+2) = 15</td>\n",
       "      <td>2005-09-09 12:24:35.0</td>\n",
       "      <td>2005-09-09 12:24:49.0</td>\n",
       "      <td>2005-09-09 12:25:15.0</td>\n",
       "      <td>2005-09-09 12:25:15.0</td>\n",
       "      <td>40.0</td>\n",
       "      <td>NaN</td>\n",
       "      <td>40.0</td>\n",
       "      <td>0</td>\n",
       "      <td>2</td>\n",
       "      <td>3</td>\n",
       "      <td>1</td>\n",
       "      <td>[SkillRule: Eliminate Parens; {CLT nested; CLT...</td>\n",
       "      <td>1</td>\n",
       "    </tr>\n",
       "    <tr>\n",
       "      <th>1</th>\n",
       "      <td>2</td>\n",
       "      <td>0BrbPbwCMz</td>\n",
       "      <td>Unit ES_04, Section ES_04-1</td>\n",
       "      <td>EG4-FIXED</td>\n",
       "      <td>1</td>\n",
       "      <td>x+2 = 5</td>\n",
       "      <td>2005-09-09 12:25:15.0</td>\n",
       "      <td>2005-09-09 12:25:31.0</td>\n",
       "      <td>2005-09-09 12:25:31.0</td>\n",
       "      <td>2005-09-09 12:25:31.0</td>\n",
       "      <td>16.0</td>\n",
       "      <td>16.0</td>\n",
       "      <td>NaN</td>\n",
       "      <td>1</td>\n",
       "      <td>0</td>\n",
       "      <td>0</td>\n",
       "      <td>1</td>\n",
       "      <td>[SkillRule: Remove constant; {ax+b=c, positive...</td>\n",
       "      <td>1~~1</td>\n",
       "    </tr>\n",
       "    <tr>\n",
       "      <th>2</th>\n",
       "      <td>3</td>\n",
       "      <td>0BrbPbwCMz</td>\n",
       "      <td>Unit ES_04, Section ES_04-1</td>\n",
       "      <td>EG40</td>\n",
       "      <td>1</td>\n",
       "      <td>2-8y = -4</td>\n",
       "      <td>2005-09-09 12:25:36.0</td>\n",
       "      <td>2005-09-09 12:25:43.0</td>\n",
       "      <td>2005-09-09 12:26:12.0</td>\n",
       "      <td>2005-09-09 12:26:12.0</td>\n",
       "      <td>36.0</td>\n",
       "      <td>NaN</td>\n",
       "      <td>36.0</td>\n",
       "      <td>0</td>\n",
       "      <td>2</td>\n",
       "      <td>3</td>\n",
       "      <td>1</td>\n",
       "      <td>[SkillRule: Remove constant; {ax+b=c, positive...</td>\n",
       "      <td>2</td>\n",
       "    </tr>\n",
       "    <tr>\n",
       "      <th>3</th>\n",
       "      <td>4</td>\n",
       "      <td>0BrbPbwCMz</td>\n",
       "      <td>Unit ES_04, Section ES_04-1</td>\n",
       "      <td>EG40</td>\n",
       "      <td>1</td>\n",
       "      <td>-8y = -6</td>\n",
       "      <td>2005-09-09 12:26:12.0</td>\n",
       "      <td>2005-09-09 12:26:34.0</td>\n",
       "      <td>2005-09-09 12:26:34.0</td>\n",
       "      <td>2005-09-09 12:26:34.0</td>\n",
       "      <td>22.0</td>\n",
       "      <td>22.0</td>\n",
       "      <td>NaN</td>\n",
       "      <td>1</td>\n",
       "      <td>0</td>\n",
       "      <td>0</td>\n",
       "      <td>1</td>\n",
       "      <td>[SkillRule: Remove coefficient; {ax+b=c, divid...</td>\n",
       "      <td>1~~1</td>\n",
       "    </tr>\n",
       "    <tr>\n",
       "      <th>4</th>\n",
       "      <td>5</td>\n",
       "      <td>0BrbPbwCMz</td>\n",
       "      <td>Unit ES_04, Section ES_04-1</td>\n",
       "      <td>EG40</td>\n",
       "      <td>2</td>\n",
       "      <td>-7y-5 = -4</td>\n",
       "      <td>2005-09-09 12:26:38.0</td>\n",
       "      <td>2005-09-09 12:28:36.0</td>\n",
       "      <td>2005-09-09 12:28:36.0</td>\n",
       "      <td>2005-09-09 12:28:36.0</td>\n",
       "      <td>118.0</td>\n",
       "      <td>118.0</td>\n",
       "      <td>NaN</td>\n",
       "      <td>1</td>\n",
       "      <td>0</td>\n",
       "      <td>0</td>\n",
       "      <td>1</td>\n",
       "      <td>[SkillRule: Remove constant; {ax+b=c, positive...</td>\n",
       "      <td>3~~1</td>\n",
       "    </tr>\n",
       "  </tbody>\n",
       "</table>\n",
       "</div>"
      ],
      "text/plain": [
       "   Row Anon Student Id            Problem Hierarchy Problem Name  \\\n",
       "0    1      0BrbPbwCMz  Unit ES_04, Section ES_04-1    EG4-FIXED   \n",
       "1    2      0BrbPbwCMz  Unit ES_04, Section ES_04-1    EG4-FIXED   \n",
       "2    3      0BrbPbwCMz  Unit ES_04, Section ES_04-1         EG40   \n",
       "3    4      0BrbPbwCMz  Unit ES_04, Section ES_04-1         EG40   \n",
       "4    5      0BrbPbwCMz  Unit ES_04, Section ES_04-1         EG40   \n",
       "\n",
       "   Problem View    Step Name        Step Start Time First Transaction Time  \\\n",
       "0             1  3(x+2) = 15  2005-09-09 12:24:35.0  2005-09-09 12:24:49.0   \n",
       "1             1      x+2 = 5  2005-09-09 12:25:15.0  2005-09-09 12:25:31.0   \n",
       "2             1    2-8y = -4  2005-09-09 12:25:36.0  2005-09-09 12:25:43.0   \n",
       "3             1     -8y = -6  2005-09-09 12:26:12.0  2005-09-09 12:26:34.0   \n",
       "4             2   -7y-5 = -4  2005-09-09 12:26:38.0  2005-09-09 12:28:36.0   \n",
       "\n",
       "  Correct Transaction Time          Step End Time  Step Duration (sec)  \\\n",
       "0    2005-09-09 12:25:15.0  2005-09-09 12:25:15.0                 40.0   \n",
       "1    2005-09-09 12:25:31.0  2005-09-09 12:25:31.0                 16.0   \n",
       "2    2005-09-09 12:26:12.0  2005-09-09 12:26:12.0                 36.0   \n",
       "3    2005-09-09 12:26:34.0  2005-09-09 12:26:34.0                 22.0   \n",
       "4    2005-09-09 12:28:36.0  2005-09-09 12:28:36.0                118.0   \n",
       "\n",
       "   Correct Step Duration (sec)  Error Step Duration (sec)  \\\n",
       "0                          NaN                       40.0   \n",
       "1                         16.0                        NaN   \n",
       "2                          NaN                       36.0   \n",
       "3                         22.0                        NaN   \n",
       "4                        118.0                        NaN   \n",
       "\n",
       "   Correct First Attempt  Incorrects  Hints  Corrects  \\\n",
       "0                      0           2      3         1   \n",
       "1                      1           0      0         1   \n",
       "2                      0           2      3         1   \n",
       "3                      1           0      0         1   \n",
       "4                      1           0      0         1   \n",
       "\n",
       "                                         KC(Default) Opportunity(Default)  \n",
       "0  [SkillRule: Eliminate Parens; {CLT nested; CLT...                    1  \n",
       "1  [SkillRule: Remove constant; {ax+b=c, positive...                 1~~1  \n",
       "2  [SkillRule: Remove constant; {ax+b=c, positive...                    2  \n",
       "3  [SkillRule: Remove coefficient; {ax+b=c, divid...                 1~~1  \n",
       "4  [SkillRule: Remove constant; {ax+b=c, positive...                 3~~1  "
      ]
     },
     "execution_count": 11,
     "metadata": {},
     "output_type": "execute_result"
    }
   ],
   "source": [
    "# Get the data: Algebra 2005-2006\n",
    "train_filepath = '/home/mahesh/Dropbox/MS Sem 2/ML/Self-selected/Data/algebra_2005_2006/algebra_2005_2006_train.txt'\n",
    "traindata = pd.read_table(train_filepath)\n",
    "# Inspect some of the training data\n",
    "traindata.head()"
   ]
  },
  {
   "cell_type": "code",
   "execution_count": 3,
   "metadata": {
    "collapsed": false
   },
   "outputs": [],
   "source": [
    "traindata['Problem Combine'] = traindata['Problem Hierarchy'] +', ' + traindata['Problem Name']"
   ]
  },
  {
   "cell_type": "code",
   "execution_count": 4,
   "metadata": {
    "collapsed": false
   },
   "outputs": [
    {
     "data": {
      "text/plain": [
       "809694"
      ]
     },
     "execution_count": 4,
     "metadata": {},
     "output_type": "execute_result"
    }
   ],
   "source": [
    "len(traindata)"
   ]
  },
  {
   "cell_type": "code",
   "execution_count": 9,
   "metadata": {
    "collapsed": false
   },
   "outputs": [],
   "source": [
    "#Update dataset where Correct Step Duration (sec) is less than 105\n",
    "df = traindata[traindata['Correct Step Duration (sec)'] < 105]"
   ]
  },
  {
   "cell_type": "code",
   "execution_count": 13,
   "metadata": {
    "collapsed": false
   },
   "outputs": [
    {
     "data": {
      "text/plain": [
       "1    620642\n",
       "0    189052\n",
       "Name: Correct First Attempt, dtype: int64"
      ]
     },
     "execution_count": 13,
     "metadata": {},
     "output_type": "execute_result"
    }
   ],
   "source": [
    "traindata['Correct First Attempt'].value_counts()"
   ]
  },
  {
   "cell_type": "code",
   "execution_count": 16,
   "metadata": {
    "collapsed": false,
    "scrolled": true
   },
   "outputs": [
    {
     "name": "stdout",
     "output_type": "stream",
     "text": [
      "[('Unit ES_03, Section ES_03-2, EG47A', Problem View    2162\n",
      "dtype: int64), ('Unit QuadLinearFuncTrans, Section QLFuncTrans8, TRANSFORMG052', Problem View    211\n",
      "dtype: int64), ('Unit ES_05, Section ES_05-5, EG60', Problem View    9346\n",
      "dtype: int64), ('Unit QuadLinearFuncTrans, Section QLFuncTrans3, TRANSFORMA008', Problem View    60\n",
      "dtype: int64), ('Unit ES_04, Section ES_04-7, EG56', Problem View    888\n",
      "dtype: int64)]\n"
     ]
    }
   ],
   "source": [
    "# Finding the sum of the problem views for each problem combine unique items.\n",
    "set_prob_cmbn = set(traindata['Problem Combine'])\n",
    "tup_prob_cmbnANDtime = []\n",
    "for prob in set_prob_cmbn:\n",
    "    tup_prob_cmbnANDtime.append((prob, df.loc[df['Problem Combine'] == prob,['Problem View']].sum()))\n",
    "    \n",
    "print tup_prob_cmbnANDtime[:5]"
   ]
  },
  {
   "cell_type": "code",
   "execution_count": 17,
   "metadata": {
    "collapsed": false
   },
   "outputs": [
    {
     "name": "stdout",
     "output_type": "stream",
     "text": [
      "1206 1067\n",
      "479891\n"
     ]
    }
   ],
   "source": [
    "prob_greatView20 = [i[0] for i in tup_prob_cmbnANDtime if int(i[1]) > 20]\n",
    "print len(tup_prob_cmbnANDtime), len(prob_greatView20)\n",
    "print len(df[df['Problem Combine'].isin(prob_greatView20)])"
   ]
  },
  {
   "cell_type": "code",
   "execution_count": 93,
   "metadata": {
    "collapsed": false
   },
   "outputs": [
    {
     "name": "stdout",
     "output_type": "stream",
     "text": [
      "Total number of problems ignored 115\n",
      "Number of Student counts faced the problems to be deleted 122\n",
      "Total unique student count 574\n"
     ]
    }
   ],
   "source": [
    "#Finding out the number of students who has faced the to be removed problems.\n",
    "ignored_prob = set(df['Problem Combine']) ^ set(prob_greatView20)\n",
    "print 'Total number of problems ignored', len(ignored_prob)\n",
    "print 'Number of Student counts faced the problems to be deleted', len(set(df[df['Problem Combine'].isin(ignored_prob)]['Anon Student Id']))\n",
    "print 'Total unique student count', len(set(df['Anon Student Id']))"
   ]
  },
  {
   "cell_type": "code",
   "execution_count": 98,
   "metadata": {
    "collapsed": false
   },
   "outputs": [
    {
     "data": {
      "text/plain": [
       "1171"
      ]
     },
     "execution_count": 98,
     "metadata": {},
     "output_type": "execute_result"
    }
   ],
   "source": [
    "#Get the frequency of the Problems combined.\n",
    "prob_cnt = df['Problem Combine'].value_counts()\n",
    "prob_tobe_kept = [i[0] for i in dict(prob_cnt).items() if i[1] > 2]\n",
    "len(prob_tobe_kept)"
   ]
  },
  {
   "cell_type": "code",
   "execution_count": 99,
   "metadata": {
    "collapsed": false
   },
   "outputs": [
    {
     "name": "stdout",
     "output_type": "stream",
     "text": [
      "Total number of problems ignored 115\n",
      "Number of Student counts faced the problems to be deleted 20\n",
      "Total unique student count 574\n"
     ]
    }
   ],
   "source": [
    "#Finding out the number of students who has faced the to be removed problems.\n",
    "ignored_prob_cnt = set(df['Problem Combine']) ^ set(prob_tobe_kept)\n",
    "print 'Total number of problems ignored', len(ignored_prob)\n",
    "print 'Number of Student counts faced the problems to be deleted', len(set(df[df['Problem Combine'].isin(ignored_prob_cnt)]['Anon Student Id']))\n",
    "print 'Total unique student count', len(set(df['Anon Student Id']))"
   ]
  },
  {
   "cell_type": "code",
   "execution_count": 100,
   "metadata": {
    "collapsed": false,
    "scrolled": true
   },
   "outputs": [
    {
     "data": {
      "text/html": [
       "<div>\n",
       "<table border=\"1\" class=\"dataframe\">\n",
       "  <thead>\n",
       "    <tr style=\"text-align: right;\">\n",
       "      <th></th>\n",
       "      <th>Row</th>\n",
       "      <th>Anon Student Id</th>\n",
       "      <th>Problem Hierarchy</th>\n",
       "      <th>Problem Name</th>\n",
       "      <th>Problem View</th>\n",
       "      <th>Step Name</th>\n",
       "      <th>Step Start Time</th>\n",
       "      <th>First Transaction Time</th>\n",
       "      <th>Correct Transaction Time</th>\n",
       "      <th>Step End Time</th>\n",
       "      <th>Step Duration (sec)</th>\n",
       "      <th>Correct Step Duration (sec)</th>\n",
       "      <th>Error Step Duration (sec)</th>\n",
       "      <th>Correct First Attempt</th>\n",
       "      <th>Incorrects</th>\n",
       "      <th>Hints</th>\n",
       "      <th>Corrects</th>\n",
       "      <th>KC(Default)</th>\n",
       "      <th>Opportunity(Default)</th>\n",
       "      <th>Problem Combine</th>\n",
       "    </tr>\n",
       "  </thead>\n",
       "  <tbody>\n",
       "    <tr>\n",
       "      <th>1</th>\n",
       "      <td>2</td>\n",
       "      <td>0BrbPbwCMz</td>\n",
       "      <td>Unit ES_04, Section ES_04-1</td>\n",
       "      <td>EG4-FIXED</td>\n",
       "      <td>1</td>\n",
       "      <td>x+2 = 5</td>\n",
       "      <td>2005-09-09 12:25:15.0</td>\n",
       "      <td>2005-09-09 12:25:31.0</td>\n",
       "      <td>2005-09-09 12:25:31.0</td>\n",
       "      <td>2005-09-09 12:25:31.0</td>\n",
       "      <td>16.0</td>\n",
       "      <td>16.0</td>\n",
       "      <td>NaN</td>\n",
       "      <td>1</td>\n",
       "      <td>0</td>\n",
       "      <td>0</td>\n",
       "      <td>1</td>\n",
       "      <td>[SkillRule: Remove constant; {ax+b=c, positive...</td>\n",
       "      <td>1~~1</td>\n",
       "      <td>Unit ES_04, Section ES_04-1, EG4-FIXED</td>\n",
       "    </tr>\n",
       "    <tr>\n",
       "      <th>3</th>\n",
       "      <td>4</td>\n",
       "      <td>0BrbPbwCMz</td>\n",
       "      <td>Unit ES_04, Section ES_04-1</td>\n",
       "      <td>EG40</td>\n",
       "      <td>1</td>\n",
       "      <td>-8y = -6</td>\n",
       "      <td>2005-09-09 12:26:12.0</td>\n",
       "      <td>2005-09-09 12:26:34.0</td>\n",
       "      <td>2005-09-09 12:26:34.0</td>\n",
       "      <td>2005-09-09 12:26:34.0</td>\n",
       "      <td>22.0</td>\n",
       "      <td>22.0</td>\n",
       "      <td>NaN</td>\n",
       "      <td>1</td>\n",
       "      <td>0</td>\n",
       "      <td>0</td>\n",
       "      <td>1</td>\n",
       "      <td>[SkillRule: Remove coefficient; {ax+b=c, divid...</td>\n",
       "      <td>1~~1</td>\n",
       "      <td>Unit ES_04, Section ES_04-1, EG40</td>\n",
       "    </tr>\n",
       "    <tr>\n",
       "      <th>4</th>\n",
       "      <td>5</td>\n",
       "      <td>0BrbPbwCMz</td>\n",
       "      <td>Unit ES_04, Section ES_04-1</td>\n",
       "      <td>EG40</td>\n",
       "      <td>2</td>\n",
       "      <td>-7y-5 = -4</td>\n",
       "      <td>2005-09-09 12:26:38.0</td>\n",
       "      <td>2005-09-09 12:28:36.0</td>\n",
       "      <td>2005-09-09 12:28:36.0</td>\n",
       "      <td>2005-09-09 12:28:36.0</td>\n",
       "      <td>118.0</td>\n",
       "      <td>118.0</td>\n",
       "      <td>NaN</td>\n",
       "      <td>1</td>\n",
       "      <td>0</td>\n",
       "      <td>0</td>\n",
       "      <td>1</td>\n",
       "      <td>[SkillRule: Remove constant; {ax+b=c, positive...</td>\n",
       "      <td>3~~1</td>\n",
       "      <td>Unit ES_04, Section ES_04-1, EG40</td>\n",
       "    </tr>\n",
       "    <tr>\n",
       "      <th>6</th>\n",
       "      <td>7</td>\n",
       "      <td>0BrbPbwCMz</td>\n",
       "      <td>Unit ES_04, Section ES_04-1</td>\n",
       "      <td>EG40</td>\n",
       "      <td>3</td>\n",
       "      <td>7y+4 = 7</td>\n",
       "      <td>2005-09-09 12:28:57.0</td>\n",
       "      <td>2005-09-09 12:29:09.0</td>\n",
       "      <td>2005-09-09 12:29:09.0</td>\n",
       "      <td>2005-09-09 12:29:09.0</td>\n",
       "      <td>12.0</td>\n",
       "      <td>12.0</td>\n",
       "      <td>NaN</td>\n",
       "      <td>1</td>\n",
       "      <td>0</td>\n",
       "      <td>0</td>\n",
       "      <td>1</td>\n",
       "      <td>[SkillRule: Remove constant; {ax+b=c, positive...</td>\n",
       "      <td>4</td>\n",
       "      <td>Unit ES_04, Section ES_04-1, EG40</td>\n",
       "    </tr>\n",
       "    <tr>\n",
       "      <th>7</th>\n",
       "      <td>8</td>\n",
       "      <td>0BrbPbwCMz</td>\n",
       "      <td>Unit ES_04, Section ES_04-1</td>\n",
       "      <td>EG40</td>\n",
       "      <td>3</td>\n",
       "      <td>7y = 3</td>\n",
       "      <td>2005-09-09 12:29:09.0</td>\n",
       "      <td>2005-09-09 12:29:14.0</td>\n",
       "      <td>2005-09-09 12:29:14.0</td>\n",
       "      <td>2005-09-09 12:29:14.0</td>\n",
       "      <td>5.0</td>\n",
       "      <td>5.0</td>\n",
       "      <td>NaN</td>\n",
       "      <td>1</td>\n",
       "      <td>0</td>\n",
       "      <td>0</td>\n",
       "      <td>1</td>\n",
       "      <td>[SkillRule: Remove positive coefficient; {ax/b...</td>\n",
       "      <td>1~~3</td>\n",
       "      <td>Unit ES_04, Section ES_04-1, EG40</td>\n",
       "    </tr>\n",
       "  </tbody>\n",
       "</table>\n",
       "</div>"
      ],
      "text/plain": [
       "   Row Anon Student Id            Problem Hierarchy Problem Name  \\\n",
       "1    2      0BrbPbwCMz  Unit ES_04, Section ES_04-1    EG4-FIXED   \n",
       "3    4      0BrbPbwCMz  Unit ES_04, Section ES_04-1         EG40   \n",
       "4    5      0BrbPbwCMz  Unit ES_04, Section ES_04-1         EG40   \n",
       "6    7      0BrbPbwCMz  Unit ES_04, Section ES_04-1         EG40   \n",
       "7    8      0BrbPbwCMz  Unit ES_04, Section ES_04-1         EG40   \n",
       "\n",
       "   Problem View   Step Name        Step Start Time First Transaction Time  \\\n",
       "1             1     x+2 = 5  2005-09-09 12:25:15.0  2005-09-09 12:25:31.0   \n",
       "3             1    -8y = -6  2005-09-09 12:26:12.0  2005-09-09 12:26:34.0   \n",
       "4             2  -7y-5 = -4  2005-09-09 12:26:38.0  2005-09-09 12:28:36.0   \n",
       "6             3    7y+4 = 7  2005-09-09 12:28:57.0  2005-09-09 12:29:09.0   \n",
       "7             3      7y = 3  2005-09-09 12:29:09.0  2005-09-09 12:29:14.0   \n",
       "\n",
       "  Correct Transaction Time          Step End Time  Step Duration (sec)  \\\n",
       "1    2005-09-09 12:25:31.0  2005-09-09 12:25:31.0                 16.0   \n",
       "3    2005-09-09 12:26:34.0  2005-09-09 12:26:34.0                 22.0   \n",
       "4    2005-09-09 12:28:36.0  2005-09-09 12:28:36.0                118.0   \n",
       "6    2005-09-09 12:29:09.0  2005-09-09 12:29:09.0                 12.0   \n",
       "7    2005-09-09 12:29:14.0  2005-09-09 12:29:14.0                  5.0   \n",
       "\n",
       "   Correct Step Duration (sec)  Error Step Duration (sec)  \\\n",
       "1                         16.0                        NaN   \n",
       "3                         22.0                        NaN   \n",
       "4                        118.0                        NaN   \n",
       "6                         12.0                        NaN   \n",
       "7                          5.0                        NaN   \n",
       "\n",
       "   Correct First Attempt  Incorrects  Hints  Corrects  \\\n",
       "1                      1           0      0         1   \n",
       "3                      1           0      0         1   \n",
       "4                      1           0      0         1   \n",
       "6                      1           0      0         1   \n",
       "7                      1           0      0         1   \n",
       "\n",
       "                                         KC(Default) Opportunity(Default)  \\\n",
       "1  [SkillRule: Remove constant; {ax+b=c, positive...                 1~~1   \n",
       "3  [SkillRule: Remove coefficient; {ax+b=c, divid...                 1~~1   \n",
       "4  [SkillRule: Remove constant; {ax+b=c, positive...                 3~~1   \n",
       "6  [SkillRule: Remove constant; {ax+b=c, positive...                    4   \n",
       "7  [SkillRule: Remove positive coefficient; {ax/b...                 1~~3   \n",
       "\n",
       "                          Problem Combine  \n",
       "1  Unit ES_04, Section ES_04-1, EG4-FIXED  \n",
       "3       Unit ES_04, Section ES_04-1, EG40  \n",
       "4       Unit ES_04, Section ES_04-1, EG40  \n",
       "6       Unit ES_04, Section ES_04-1, EG40  \n",
       "7       Unit ES_04, Section ES_04-1, EG40  "
      ]
     },
     "execution_count": 100,
     "metadata": {},
     "output_type": "execute_result"
    }
   ],
   "source": [
    "df.head()"
   ]
  },
  {
   "cell_type": "code",
   "execution_count": 109,
   "metadata": {
    "collapsed": false
   },
   "outputs": [
    {
     "data": {
      "text/plain": [
       "[('NEWS02', 16, 214),\n",
       " ('NEWS01', 35, 618),\n",
       " ('REAL28', 29, 230),\n",
       " ('REAL29', 3, 26),\n",
       " ('REAL25', 16, 151)]"
      ]
     },
     "execution_count": 109,
     "metadata": {},
     "output_type": "execute_result"
    }
   ],
   "source": [
    "set_prob_hier = set(df['Problem Hierarchy'])\n",
    "set_prob_name = set(df['Problem Name'])\n",
    "arr_tup_ = []\n",
    "for i in list(set_prob_name):\n",
    "    #print len(df[df['Problem Name'] == i])\n",
    "    tempDF = df[df['Problem Name'] == i]\n",
    "    arr_tup_.append((i,len(set(tempDF['Anon Student Id'])), len(tempDF['Problem Hierarchy'])))\n",
    "    \n",
    "arr_tup_[:5]  "
   ]
  },
  {
   "cell_type": "code",
   "execution_count": 112,
   "metadata": {
    "collapsed": false
   },
   "outputs": [],
   "source": [
    "arr_tup_.sort()"
   ]
  },
  {
   "cell_type": "code",
   "execution_count": null,
   "metadata": {
    "collapsed": false
   },
   "outputs": [],
   "source": []
  },
  {
   "cell_type": "code",
   "execution_count": null,
   "metadata": {
    "collapsed": true
   },
   "outputs": [],
   "source": []
  },
  {
   "cell_type": "code",
   "execution_count": 24,
   "metadata": {
    "collapsed": false
   },
   "outputs": [
    {
     "data": {
      "text/plain": [
       "574"
      ]
     },
     "execution_count": 24,
     "metadata": {},
     "output_type": "execute_result"
    }
   ],
   "source": [
    "set_std = set(df[\"Anon Student Id\"])\n",
    "len(set_std)"
   ]
  },
  {
   "cell_type": "code",
   "execution_count": 33,
   "metadata": {
    "collapsed": false
   },
   "outputs": [],
   "source": [
    "df = df[df[\"Anon Student Id\"].isin(list(set_std)[:150])]"
   ]
  },
  {
   "cell_type": "code",
   "execution_count": 34,
   "metadata": {
    "collapsed": false
   },
   "outputs": [
    {
     "data": {
      "text/plain": [
       "159323"
      ]
     },
     "execution_count": 34,
     "metadata": {},
     "output_type": "execute_result"
    }
   ],
   "source": [
    "len(df)"
   ]
  },
  {
   "cell_type": "code",
   "execution_count": 35,
   "metadata": {
    "collapsed": false
   },
   "outputs": [],
   "source": [
    "save_file_path = '/home/mahesh/Dropbox/MS Sem 2/ML/Self-selected/Data/algebra_2005_2006/algebra_2005_2006_train_160k.txt'\n",
    "df.to_csv(save_file_path,sep='\\t',index=False)"
   ]
  }
 ],
 "metadata": {
  "kernelspec": {
   "display_name": "Python 2",
   "language": "python",
   "name": "python2"
  },
  "language_info": {
   "codemirror_mode": {
    "name": "ipython",
    "version": 2
   },
   "file_extension": ".py",
   "mimetype": "text/x-python",
   "name": "python",
   "nbconvert_exporter": "python",
   "pygments_lexer": "ipython2",
   "version": "2.7.12"
  }
 },
 "nbformat": 4,
 "nbformat_minor": 2
}
